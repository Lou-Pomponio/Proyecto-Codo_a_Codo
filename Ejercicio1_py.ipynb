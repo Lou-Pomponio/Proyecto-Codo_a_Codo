{
  "nbformat": 4,
  "nbformat_minor": 0,
  "metadata": {
    "colab": {
      "provenance": [],
      "authorship_tag": "ABX9TyMHYkHo9Sh2n8MywTv0nvRB",
      "include_colab_link": true
    },
    "kernelspec": {
      "name": "python3",
      "display_name": "Python 3"
    },
    "language_info": {
      "name": "python"
    }
  },
  "cells": [
    {
      "cell_type": "markdown",
      "metadata": {
        "id": "view-in-github",
        "colab_type": "text"
      },
      "source": [
        "<a href=\"https://colab.research.google.com/github/Lou-Pomponio/Proyecto-Codo_a_Codo/blob/main/Ejercicio1_py.ipynb\" target=\"_parent\"><img src=\"https://colab.research.google.com/assets/colab-badge.svg\" alt=\"Open In Colab\"/></a>"
      ]
    },
    {
      "cell_type": "markdown",
      "source": [
        "#Ejercicio 1\n",
        "Crear un algoritmo para calcular la sumatoria de los primeros cien numeros (del 01 al 100) con un ciclo while."
      ],
      "metadata": {
        "id": "9lWRBJymFT8O"
      }
    },
    {
      "cell_type": "code",
      "source": [
        "\n",
        "suma = 0\n",
        "contador = 1\n",
        "\n",
        "while contador <= 100:\n",
        "    suma += contador\n",
        "    contador += 1\n",
        "\n",
        "print(\"La sumatoria de los primeros cien números es:\", suma)"
      ],
      "metadata": {
        "colab": {
          "base_uri": "https://localhost:8080/"
        },
        "id": "eZqGWYKDGjPn",
        "outputId": "86a4de60-6060-4a1f-e005-f98fc3394e47"
      },
      "execution_count": 3,
      "outputs": [
        {
          "output_type": "stream",
          "name": "stdout",
          "text": [
            "La sumatoria de los primeros cien números es: 5050\n"
          ]
        }
      ]
    },
    {
      "cell_type": "markdown",
      "source": [
        "#Ejercicio 2\n",
        "Crea una lista con 5 elementos y luego aplica los siguientes accionables:\n",
        "\n",
        "-imprimir el último elemento\n",
        "-modificar el valor del tercer elemento\n",
        "-agregar dos elementos\n",
        "-eliminar algun elemento\n"
      ],
      "metadata": {
        "id": "TGoapZKzHkvr"
      }
    },
    {
      "cell_type": "code",
      "source": [
        "lista_paises=[\"Brasil\",\"Argentina\",\"Paraguay\",\"Costa Rica\",\"Mexico\"]\n",
        "print(lista_paises[4])\n"
      ],
      "metadata": {
        "colab": {
          "base_uri": "https://localhost:8080/"
        },
        "id": "Xjy7jBt5I8f8",
        "outputId": "b2302bae-0eae-4d44-94c3-b534b844fdbc"
      },
      "execution_count": 7,
      "outputs": [
        {
          "output_type": "stream",
          "name": "stdout",
          "text": [
            "Mexico\n"
          ]
        }
      ]
    },
    {
      "cell_type": "code",
      "source": [
        "lista_paises[2]=\"Chile\"\n",
        "print(lista_paises)"
      ],
      "metadata": {
        "colab": {
          "base_uri": "https://localhost:8080/"
        },
        "id": "Yy7cpTC7Jj43",
        "outputId": "b52c37dc-6e94-47f8-a2b0-3c436cf6af6c"
      },
      "execution_count": 8,
      "outputs": [
        {
          "output_type": "stream",
          "name": "stdout",
          "text": [
            "['Brasil', 'Argentina', 'Chile', 'Costa Rica', 'Mexico']\n"
          ]
        }
      ]
    },
    {
      "cell_type": "code",
      "source": [
        "lista_paises.extend([\"Bali\",\"Australia\"])\n",
        "print(lista_paises)"
      ],
      "metadata": {
        "colab": {
          "base_uri": "https://localhost:8080/"
        },
        "id": "X36dmgP6IQ4_",
        "outputId": "81de599d-2d55-426d-f9b0-4ad2ce1afef0"
      },
      "execution_count": 15,
      "outputs": [
        {
          "output_type": "stream",
          "name": "stdout",
          "text": [
            "['Brasil', 'Argentina', 'Chile', 'Costa Rica', 'Mexico', 'Bali', 'Australia', 'Bali', 'Australia', 'Bali', 'Australia', 'Bali', 'Australia', 'Bali', 'Australia', 'Bali', 'Australia']\n"
          ]
        }
      ]
    },
    {
      "cell_type": "code",
      "source": [
        "lista_paises.pop()\n",
        "print(lista_paises)"
      ],
      "metadata": {
        "colab": {
          "base_uri": "https://localhost:8080/"
        },
        "id": "6NC38wekK9B7",
        "outputId": "0500b5a0-1da0-4de8-d036-10c2370dc273"
      },
      "execution_count": 17,
      "outputs": [
        {
          "output_type": "stream",
          "name": "stdout",
          "text": [
            "['Brasil', 'Argentina', 'Chile', 'Costa Rica', 'Mexico', 'Bali', 'Australia', 'Bali', 'Australia', 'Bali', 'Australia', 'Bali', 'Australia', 'Bali', 'Australia', 'Bali']\n"
          ]
        }
      ]
    }
  ]
}